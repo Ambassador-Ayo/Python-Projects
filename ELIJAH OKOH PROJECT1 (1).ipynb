{
 "cells": [
  {
   "cell_type": "code",
   "execution_count": null,
   "id": "8618db87",
   "metadata": {},
   "outputs": [],
   "source": [
    "#######################\n",
    "# NAME : ELIJAH OKOH\n",
    "# TRAINING ID : 36090\n",
    "# SUBJECT: PYTHON PROGRAMMING INDIVIDUAL PROJECT 1\n",
    "#######################"
   ]
  },
  {
   "cell_type": "code",
   "execution_count": 31,
   "id": "61047da5",
   "metadata": {},
   "outputs": [
    {
     "data": {
      "text/html": [
       "<div>\n",
       "<style scoped>\n",
       "    .dataframe tbody tr th:only-of-type {\n",
       "        vertical-align: middle;\n",
       "    }\n",
       "\n",
       "    .dataframe tbody tr th {\n",
       "        vertical-align: top;\n",
       "    }\n",
       "\n",
       "    .dataframe thead th {\n",
       "        text-align: right;\n",
       "    }\n",
       "</style>\n",
       "<table border=\"1\" class=\"dataframe\">\n",
       "  <thead>\n",
       "    <tr style=\"text-align: right;\">\n",
       "      <th></th>\n",
       "      <th>Student ID</th>\n",
       "      <th>Student Name</th>\n",
       "      <th>Sex</th>\n",
       "      <th>Math Score</th>\n",
       "      <th>Science Score</th>\n",
       "      <th>English Score</th>\n",
       "      <th>History Score</th>\n",
       "      <th>Geography Score</th>\n",
       "    </tr>\n",
       "  </thead>\n",
       "  <tbody>\n",
       "    <tr>\n",
       "      <th>0</th>\n",
       "      <td>10024</td>\n",
       "      <td>Elijah</td>\n",
       "      <td>Male</td>\n",
       "      <td>98</td>\n",
       "      <td>96</td>\n",
       "      <td>97</td>\n",
       "      <td>95</td>\n",
       "      <td>93</td>\n",
       "    </tr>\n",
       "    <tr>\n",
       "      <th>1</th>\n",
       "      <td>10025</td>\n",
       "      <td>Ezra</td>\n",
       "      <td>Male</td>\n",
       "      <td>90</td>\n",
       "      <td>68</td>\n",
       "      <td>59</td>\n",
       "      <td>65</td>\n",
       "      <td>86</td>\n",
       "    </tr>\n",
       "    <tr>\n",
       "      <th>2</th>\n",
       "      <td>10026</td>\n",
       "      <td>Esther</td>\n",
       "      <td>Female</td>\n",
       "      <td>70</td>\n",
       "      <td>85</td>\n",
       "      <td>62</td>\n",
       "      <td>82</td>\n",
       "      <td>76</td>\n",
       "    </tr>\n",
       "    <tr>\n",
       "      <th>3</th>\n",
       "      <td>10027</td>\n",
       "      <td>Somto</td>\n",
       "      <td>Female</td>\n",
       "      <td>88</td>\n",
       "      <td>82</td>\n",
       "      <td>62</td>\n",
       "      <td>74</td>\n",
       "      <td>65</td>\n",
       "    </tr>\n",
       "    <tr>\n",
       "      <th>4</th>\n",
       "      <td>10028</td>\n",
       "      <td>Abigail</td>\n",
       "      <td>Female</td>\n",
       "      <td>75</td>\n",
       "      <td>75</td>\n",
       "      <td>55</td>\n",
       "      <td>68</td>\n",
       "      <td>71</td>\n",
       "    </tr>\n",
       "    <tr>\n",
       "      <th>5</th>\n",
       "      <td>10029</td>\n",
       "      <td>Precious</td>\n",
       "      <td>Female</td>\n",
       "      <td>65</td>\n",
       "      <td>64</td>\n",
       "      <td>84</td>\n",
       "      <td>59</td>\n",
       "      <td>52</td>\n",
       "    </tr>\n",
       "    <tr>\n",
       "      <th>6</th>\n",
       "      <td>10030</td>\n",
       "      <td>Henry</td>\n",
       "      <td>Male</td>\n",
       "      <td>87</td>\n",
       "      <td>56</td>\n",
       "      <td>83</td>\n",
       "      <td>74</td>\n",
       "      <td>59</td>\n",
       "    </tr>\n",
       "    <tr>\n",
       "      <th>7</th>\n",
       "      <td>10031</td>\n",
       "      <td>Frank</td>\n",
       "      <td>Male</td>\n",
       "      <td>60</td>\n",
       "      <td>50</td>\n",
       "      <td>72</td>\n",
       "      <td>52</td>\n",
       "      <td>50</td>\n",
       "    </tr>\n",
       "  </tbody>\n",
       "</table>\n",
       "</div>"
      ],
      "text/plain": [
       "   Student ID Student Name     Sex  Math Score  Science Score  English Score  \\\n",
       "0       10024       Elijah    Male          98             96             97   \n",
       "1       10025         Ezra    Male          90             68             59   \n",
       "2       10026       Esther  Female          70             85             62   \n",
       "3       10027        Somto  Female          88             82             62   \n",
       "4       10028      Abigail  Female          75             75             55   \n",
       "5       10029     Precious  Female          65             64             84   \n",
       "6       10030        Henry    Male          87             56             83   \n",
       "7       10031        Frank    Male          60             50             72   \n",
       "\n",
       "   History Score  Geography Score  \n",
       "0             95               93  \n",
       "1             65               86  \n",
       "2             82               76  \n",
       "3             74               65  \n",
       "4             68               71  \n",
       "5             59               52  \n",
       "6             74               59  \n",
       "7             52               50  "
      ]
     },
     "execution_count": 31,
     "metadata": {},
     "output_type": "execute_result"
    }
   ],
   "source": [
    "#######################\n",
    "# QUESTION 1:\n",
    "#######################\n",
    "\n",
    "\"\"\" \n",
    "Create a Python dictionary containing the following data for 8 students:\n",
    " - Student ID (numeric) \n",
    "- Student Name (text) \n",
    "- Sex (text, e.g., 'Male' or 'Female') \n",
    "- Math Score (numeric, out of 100) \n",
    "- Science Score (numeric, out of 100) \n",
    "- English Score (numeric, out of 100) \n",
    "- History Score (numeric, out of 100) \n",
    "- Geography Score (numeric, out of 100) \n",
    "- Use the data you create or generate random data using Python libraries. \n",
    "\n",
    "\"\"\"\n",
    "\n",
    "#######################\n",
    "# SOLUTION:\n",
    "#######################\n",
    "\n",
    "import pandas as pd\n",
    "import matplotlib.pyplot as plt\n",
    "mydict={\n",
    "    \"Student ID\":[10024,10025,10026,10027,10028,10029,10030,10031],\n",
    "    \"Student Name\":[\"Elijah\",\"Ezra\",\"Esther\",\"Somto\",\"Abigail\",\"Precious\",\"Henry\",\"Frank\"],\n",
    "    \"Sex\": [\"Male\",\"Male\",\"Female\",\"Female\",\"Female\",\"Female\",\"Male\",\"Male\"],\n",
    "    \"Math Score\": [98,90,70,88,75,65,87,60],\n",
    "    \"Science Score\": [96,68,85,82,75,64,56,50],\n",
    "    \"English Score\": [97,59,62,62,55,84,83,72],\n",
    "    \"History Score\": [95,65,82,74,68,59,74,52],\n",
    "    \"Geography Score\":[93,86,76,65,71,52,59,50]\n",
    "    \n",
    "}\n",
    "\n",
    "\n",
    "df=pd.DataFrame(mydict)\n",
    "df"
   ]
  },
  {
   "cell_type": "code",
   "execution_count": 12,
   "id": "94e6f15c",
   "metadata": {},
   "outputs": [
    {
     "data": {
      "text/plain": [
       "(8, 8)"
      ]
     },
     "execution_count": 12,
     "metadata": {},
     "output_type": "execute_result"
    }
   ],
   "source": [
    "##########################\n",
    "#  QUESTION 2:\n",
    "##########################\n",
    "\n",
    "\"\"\"\n",
    " After creating the DataFrame, conduct the following data checks: \n",
    "- - Check the shape of the DataFrame (number of rows and columns). \n",
    "- Check for missing values in each column and report the count of missing values. - Check for duplicates in the dataset and report the count of duplicates. \n",
    "\"\"\"\n",
    "\n",
    "#################\n",
    "# SOLUTION\n",
    "#################\n",
    "\n",
    "df.shape"
   ]
  },
  {
   "cell_type": "code",
   "execution_count": 8,
   "id": "d73f55e8",
   "metadata": {},
   "outputs": [
    {
     "name": "stdout",
     "output_type": "stream",
     "text": [
      "   Student ID  Student Name    Sex  Math Score  Science Score  English Score  \\\n",
      "0       False         False  False       False          False          False   \n",
      "1       False         False  False       False          False          False   \n",
      "2       False         False  False       False          False          False   \n",
      "3       False         False  False       False          False          False   \n",
      "4       False         False  False       False          False          False   \n",
      "5       False         False  False       False          False          False   \n",
      "6       False         False  False       False          False          False   \n",
      "7       False         False  False       False          False          False   \n",
      "\n",
      "   History Score  Geography Score  \n",
      "0          False            False  \n",
      "1          False            False  \n",
      "2          False            False  \n",
      "3          False            False  \n",
      "4          False            False  \n",
      "5          False            False  \n",
      "6          False            False  \n",
      "7          False            False  \n"
     ]
    }
   ],
   "source": [
    "missing_values=df.isnull()\n",
    "print(missing_values)\n"
   ]
  },
  {
   "cell_type": "code",
   "execution_count": 21,
   "id": "9c3a38b3",
   "metadata": {},
   "outputs": [
    {
     "name": "stdout",
     "output_type": "stream",
     "text": [
      "Student ID         0\n",
      "Student Name       0\n",
      "Sex                0\n",
      "Math Score         0\n",
      "Science Score      0\n",
      "English Score      0\n",
      "History Score      0\n",
      "Geography Score    0\n",
      "dtype: int64\n"
     ]
    }
   ],
   "source": [
    "missing_values=df.isnull().sum()\n",
    "print(missing_values)"
   ]
  },
  {
   "cell_type": "code",
   "execution_count": 5,
   "id": "a63286d9",
   "metadata": {},
   "outputs": [
    {
     "name": "stdout",
     "output_type": "stream",
     "text": [
      "0    False\n",
      "1    False\n",
      "2    False\n",
      "3    False\n",
      "4    False\n",
      "5    False\n",
      "6    False\n",
      "7    False\n",
      "dtype: bool\n"
     ]
    }
   ],
   "source": [
    "duplicated_values=df.duplicated()\n",
    "print(duplicated_values)"
   ]
  },
  {
   "cell_type": "code",
   "execution_count": 6,
   "id": "b8ba7655",
   "metadata": {},
   "outputs": [
    {
     "name": "stdout",
     "output_type": "stream",
     "text": [
      "0\n"
     ]
    }
   ],
   "source": [
    "duplicated_values=df.duplicated().sum()\n",
    "print(duplicated_values)"
   ]
  },
  {
   "cell_type": "code",
   "execution_count": 21,
   "id": "68f4b7d8",
   "metadata": {},
   "outputs": [
    {
     "data": {
      "text/html": [
       "<div>\n",
       "<style scoped>\n",
       "    .dataframe tbody tr th:only-of-type {\n",
       "        vertical-align: middle;\n",
       "    }\n",
       "\n",
       "    .dataframe tbody tr th {\n",
       "        vertical-align: top;\n",
       "    }\n",
       "\n",
       "    .dataframe thead th {\n",
       "        text-align: right;\n",
       "    }\n",
       "</style>\n",
       "<table border=\"1\" class=\"dataframe\">\n",
       "  <thead>\n",
       "    <tr style=\"text-align: right;\">\n",
       "      <th></th>\n",
       "      <th>Student ID</th>\n",
       "      <th>Student Name</th>\n",
       "      <th>Sex</th>\n",
       "      <th>Math Score</th>\n",
       "      <th>Science Score</th>\n",
       "      <th>English Score</th>\n",
       "      <th>History Score</th>\n",
       "      <th>Geography Score</th>\n",
       "      <th>Average Score</th>\n",
       "    </tr>\n",
       "  </thead>\n",
       "  <tbody>\n",
       "    <tr>\n",
       "      <th>0</th>\n",
       "      <td>10024</td>\n",
       "      <td>Elijah</td>\n",
       "      <td>Male</td>\n",
       "      <td>98</td>\n",
       "      <td>96</td>\n",
       "      <td>97</td>\n",
       "      <td>95</td>\n",
       "      <td>93</td>\n",
       "      <td>95.8</td>\n",
       "    </tr>\n",
       "    <tr>\n",
       "      <th>1</th>\n",
       "      <td>10025</td>\n",
       "      <td>Ezra</td>\n",
       "      <td>Male</td>\n",
       "      <td>90</td>\n",
       "      <td>68</td>\n",
       "      <td>59</td>\n",
       "      <td>65</td>\n",
       "      <td>86</td>\n",
       "      <td>73.6</td>\n",
       "    </tr>\n",
       "    <tr>\n",
       "      <th>2</th>\n",
       "      <td>10026</td>\n",
       "      <td>Esther</td>\n",
       "      <td>Female</td>\n",
       "      <td>70</td>\n",
       "      <td>85</td>\n",
       "      <td>62</td>\n",
       "      <td>82</td>\n",
       "      <td>76</td>\n",
       "      <td>75.0</td>\n",
       "    </tr>\n",
       "    <tr>\n",
       "      <th>3</th>\n",
       "      <td>10027</td>\n",
       "      <td>Somto</td>\n",
       "      <td>Female</td>\n",
       "      <td>88</td>\n",
       "      <td>82</td>\n",
       "      <td>62</td>\n",
       "      <td>74</td>\n",
       "      <td>65</td>\n",
       "      <td>74.2</td>\n",
       "    </tr>\n",
       "    <tr>\n",
       "      <th>4</th>\n",
       "      <td>10028</td>\n",
       "      <td>Abigail</td>\n",
       "      <td>Female</td>\n",
       "      <td>75</td>\n",
       "      <td>75</td>\n",
       "      <td>55</td>\n",
       "      <td>68</td>\n",
       "      <td>71</td>\n",
       "      <td>68.8</td>\n",
       "    </tr>\n",
       "    <tr>\n",
       "      <th>5</th>\n",
       "      <td>10029</td>\n",
       "      <td>Precious</td>\n",
       "      <td>Female</td>\n",
       "      <td>65</td>\n",
       "      <td>64</td>\n",
       "      <td>84</td>\n",
       "      <td>59</td>\n",
       "      <td>52</td>\n",
       "      <td>64.8</td>\n",
       "    </tr>\n",
       "    <tr>\n",
       "      <th>6</th>\n",
       "      <td>10030</td>\n",
       "      <td>Henry</td>\n",
       "      <td>Male</td>\n",
       "      <td>87</td>\n",
       "      <td>56</td>\n",
       "      <td>83</td>\n",
       "      <td>74</td>\n",
       "      <td>59</td>\n",
       "      <td>71.8</td>\n",
       "    </tr>\n",
       "    <tr>\n",
       "      <th>7</th>\n",
       "      <td>10031</td>\n",
       "      <td>Frank</td>\n",
       "      <td>Male</td>\n",
       "      <td>60</td>\n",
       "      <td>50</td>\n",
       "      <td>72</td>\n",
       "      <td>52</td>\n",
       "      <td>50</td>\n",
       "      <td>56.8</td>\n",
       "    </tr>\n",
       "  </tbody>\n",
       "</table>\n",
       "</div>"
      ],
      "text/plain": [
       "   Student ID Student Name     Sex  Math Score  Science Score  English Score  \\\n",
       "0       10024       Elijah    Male          98             96             97   \n",
       "1       10025         Ezra    Male          90             68             59   \n",
       "2       10026       Esther  Female          70             85             62   \n",
       "3       10027        Somto  Female          88             82             62   \n",
       "4       10028      Abigail  Female          75             75             55   \n",
       "5       10029     Precious  Female          65             64             84   \n",
       "6       10030        Henry    Male          87             56             83   \n",
       "7       10031        Frank    Male          60             50             72   \n",
       "\n",
       "   History Score  Geography Score  Average Score  \n",
       "0             95               93           95.8  \n",
       "1             65               86           73.6  \n",
       "2             82               76           75.0  \n",
       "3             74               65           74.2  \n",
       "4             68               71           68.8  \n",
       "5             59               52           64.8  \n",
       "6             74               59           71.8  \n",
       "7             52               50           56.8  "
      ]
     },
     "execution_count": 21,
     "metadata": {},
     "output_type": "execute_result"
    }
   ],
   "source": [
    "########################\n",
    "# QUESTION 3:\n",
    "########################\n",
    "\"\"\"\n",
    " Calculate and add a new column to the DataFrame for the \"Average Score,\" which is the average of scores in all subjects for each student. \n",
    "- Calculate and print the following statistics for each subject: \n",
    "- Mean (average) Score \n",
    "- Maximum Score \n",
    "- Minimum Score \n",
    "- Calculate and print the overall mean (average) score for all subjects for each gender category (Male and Female). \n",
    "\"\"\"\n",
    "########################\n",
    "# SOLUTION\n",
    "########################\n",
    "\n",
    "\n",
    "df[\"Average Score\"]=df[[\"Math Score\",\"Science Score\",\"English Score\",\"History Score\",\"Geography Score\"]].mean(axis=1)\n",
    "df"
   ]
  },
  {
   "cell_type": "code",
   "execution_count": 11,
   "id": "f08b969c",
   "metadata": {},
   "outputs": [
    {
     "name": "stdout",
     "output_type": "stream",
     "text": [
      "Statistics for Math Score: Mean=79.125, Max=98, Min=60\n",
      "Statistics for Science Score: Mean=72.0, Max=96, Min=50\n",
      "Statistics for English Score: Mean=71.75, Max=97, Min=55\n",
      "Statistics for History Score: Mean=71.125, Max=95, Min=52\n",
      "Statistics for Geography Score: Mean=69.0, Max=93, Min=50\n"
     ]
    }
   ],
   "source": [
    "for  subject in [\"Math Score\",\"Science Score\",\"English Score\",\"History Score\",\"Geography Score\"]:\n",
    "    subject_mean=df[subject].mean()\n",
    "    subject_max=df[subject].max()\n",
    "    subject_min=df[subject].min()\n",
    "    \n",
    "    print(f\"Statistics for {subject}: Mean={subject_mean}, Max={subject_max}, Min={subject_min}\")\n"
   ]
  },
  {
   "cell_type": "code",
   "execution_count": 23,
   "id": "9aeccfbc",
   "metadata": {},
   "outputs": [
    {
     "name": "stdout",
     "output_type": "stream",
     "text": [
      " Mean score for Male category for each subject: Math Score         83.75\n",
      "Science Score      67.50\n",
      "English Score      77.75\n",
      "History Score      71.50\n",
      "Geography Score    72.00\n",
      "dtype: float64\n",
      " Mean score for Female category for each subject: Math Score         74.50\n",
      "Science Score      76.50\n",
      "English Score      65.75\n",
      "History Score      70.75\n",
      "Geography Score    66.00\n",
      "dtype: float64\n"
     ]
    }
   ],
   "source": [
    "gender_categories=df[\"Sex\"].unique()\n",
    "for gender in gender_categories:\n",
    "    gender_mean=df[df[\"Sex\"]==gender][[\"Math Score\",\"Science Score\",\"English Score\",\"History Score\",\"Geography Score\"]].mean()\n",
    "    \n",
    "    print(f\" Mean score for {gender} category for each subject: {gender_mean}\")"
   ]
  },
  {
   "cell_type": "code",
   "execution_count": 41,
   "id": "73dc8e43",
   "metadata": {},
   "outputs": [
    {
     "name": "stdout",
     "output_type": "stream",
     "text": [
      " Overall mean score for Male category for all the subjects is: 74.5\n",
      " Overall mean score for Female category for all the subjects is: 70.7\n"
     ]
    }
   ],
   "source": [
    "for gender in gender_categories:\n",
    "    gender_mean=df[df[\"Sex\"]==gender][[\"Math Score\",\"Science Score\",\"English Score\",\"History Score\",\"Geography Score\"]].mean().mean()\n",
    "    \n",
    "    print(f\" Overall mean score for {gender} category for all the subjects is: {gender_mean}\")"
   ]
  },
  {
   "cell_type": "code",
   "execution_count": 43,
   "id": "e42a231b",
   "metadata": {},
   "outputs": [
    {
     "data": {
      "image/png": "[encoded data removed]",
      "text/plain": [
       "<Figure size 640x480 with 1 Axes>"
      ]
     },
     "metadata": {},
     "output_type": "display_data"
    }
   ],
   "source": [
    "########################\n",
    "# QUESTION 4:\n",
    "########################\n",
    "\n",
    "\"\"\"\n",
    "Data Visualization: \n",
    "- Create visualizations for the following: \n",
    "- A bar chart to visualize the average scores of students for each subject, grouped by gender. \n",
    "\"\"\"\n",
    "########################\n",
    "# SOLUTION:\n",
    "########################\n",
    "\n",
    "subject_means=df.groupby(\"Sex\")[[\"Math Score\",\"Science Score\",\"English Score\",\"History Score\",\"Geography Score\"]].mean()\n",
    "subject_means.plot(kind=\"bar\")\n",
    "\n",
    "plt.xlabel(\"Sex\")\n",
    "plt.ylabel(\"Average Score\")\n",
    "plt.title(\" Bar Chart representing the Average Scores of Students for each Subject grouped by Sex\")\n",
    "\n",
    "plt.show()"
   ]
  },
  {
   "cell_type": "code",
   "execution_count": null,
   "id": "81be7e2d",
   "metadata": {},
   "outputs": [],
   "source": []
  }
 ],
 "metadata": {
  "kernelspec": {
   "display_name": "Python 3 (ipykernel)",
   "language": "python",
   "name": "python3"
  },
  "language_info": {
   "codemirror_mode": {
    "name": "ipython",
    "version": 3
   },
   "file_extension": ".py",
   "mimetype": "text/x-python",
   "name": "python",
   "nbconvert_exporter": "python",
   "pygments_lexer": "ipython3",
   "version": "3.10.9"
  }
 },
 "nbformat": 4,
 "nbformat_minor": 5
}
